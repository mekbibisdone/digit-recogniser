{
  "cells": [
    {
      "cell_type": "code",
      "execution_count": 1,
      "id": "3417a546-4aa8-4ed7-b687-8e787ad4ca12",
      "metadata": {
        "id": "3417a546-4aa8-4ed7-b687-8e787ad4ca12"
      },
      "outputs": [],
      "source": [
        "from fastai.vision.all import *\n",
        "from functools import reduce"
      ]
    },
    {
      "cell_type": "markdown",
      "id": "26c5d45b-d459-4645-819a-b6b60c8ac752",
      "metadata": {
        "id": "26c5d45b-d459-4645-819a-b6b60c8ac752"
      },
      "source": [
        "## Gather Dataset"
      ]
    },
    {
      "cell_type": "code",
      "execution_count": 2,
      "id": "156b62b2-6609-4349-af12-2268864d6567",
      "metadata": {
        "id": "156b62b2-6609-4349-af12-2268864d6567"
      },
      "outputs": [],
      "source": [
        "data_set_length = 10"
      ]
    },
    {
      "cell_type": "code",
      "execution_count": 3,
      "id": "bbca9af4-e5ea-458d-b5fd-ff6197ce91fc",
      "metadata": {
        "colab": {
          "base_uri": "https://localhost:8080/",
          "height": 54
        },
        "id": "bbca9af4-e5ea-458d-b5fd-ff6197ce91fc",
        "outputId": "9239e4c8-1721-4e25-92ff-47065b9425b1"
      },
      "outputs": [
        {
          "data": {
            "text/plain": [
              "(#2) [Path('training'),Path('testing')]"
            ]
          },
          "execution_count": 3,
          "metadata": {},
          "output_type": "execute_result"
        }
      ],
      "source": [
        "path = untar_data(URLs.MNIST)\n",
        "Path.BASE_PATH = path\n",
        "path.ls()"
      ]
    },
    {
      "cell_type": "markdown",
      "id": "d132e939-ed5b-4b9f-8450-6b948674b953",
      "metadata": {
        "id": "d132e939-ed5b-4b9f-8450-6b948674b953"
      },
      "source": [
        "### Define training dataset"
      ]
    },
    {
      "cell_type": "code",
      "execution_count": 4,
      "id": "eec2ce05-7d47-4a11-9d04-adffa03eac63",
      "metadata": {
        "id": "eec2ce05-7d47-4a11-9d04-adffa03eac63"
      },
      "outputs": [],
      "source": [
        "training_paths = [(path/f'training/{num}').ls().sorted() for num in range(data_set_length)]\n",
        "training_tensors = [[tensor(Image.open(im)) for im in path] for path in training_paths]\n",
        "training_stacked_digits = [torch.stack(tensors)/255 for tensors in training_tensors]"
      ]
    },
    {
      "cell_type": "markdown",
      "id": "26408e96-7564-45d3-9cba-601e98d6c119",
      "metadata": {
        "id": "26408e96-7564-45d3-9cba-601e98d6c119"
      },
      "source": [
        "### Define testing dataset"
      ]
    },
    {
      "cell_type": "code",
      "execution_count": 5,
      "id": "f4709186-c9fa-48be-93be-d62641f2d02f",
      "metadata": {
        "id": "f4709186-c9fa-48be-93be-d62641f2d02f"
      },
      "outputs": [],
      "source": [
        "test_paths = [(path/f'testing/{num}').ls().sorted() for num in range(data_set_length)]\n",
        "test_tensors = [[tensor(Image.open(im)) for im in path] for path in test_paths]\n",
        "test_stacked_digits = [torch.stack(tensors)/255 for tensors in test_tensors]"
      ]
    },
    {
      "cell_type": "code",
      "execution_count": 6,
      "id": "kvcaBAWfBvQE",
      "metadata": {
        "colab": {
          "base_uri": "https://localhost:8080/"
        },
        "id": "kvcaBAWfBvQE",
        "outputId": "2ded1885-84ff-47bb-cdfb-dcbba982c84a"
      },
      "outputs": [
        {
          "data": {
            "text/plain": [
              "980"
            ]
          },
          "execution_count": 6,
          "metadata": {},
          "output_type": "execute_result"
        }
      ],
      "source": [
        "len(test_stacked_digits[0])"
      ]
    },
    {
      "cell_type": "markdown",
      "id": "dd56cf6f-54dc-4784-b477-481f626efa7f",
      "metadata": {
        "id": "dd56cf6f-54dc-4784-b477-481f626efa7f"
      },
      "source": [
        "## Pixel similarity approach"
      ]
    },
    {
      "cell_type": "markdown",
      "id": "1ddbcc9e-c29f-4c3d-bdcb-127870264cb2",
      "metadata": {
        "id": "1ddbcc9e-c29f-4c3d-bdcb-127870264cb2"
      },
      "source": [
        "### Get The average look of each digit"
      ]
    },
    {
      "cell_type": "code",
      "execution_count": 7,
      "id": "1a0b75d8-4358-4bbb-ab62-7c11ffc0b5f0",
      "metadata": {
        "id": "1a0b75d8-4358-4bbb-ab62-7c11ffc0b5f0"
      },
      "outputs": [],
      "source": [
        "empty_lists = [[] for _ in range(data_set_length)]\n",
        "mean_list = [train_set.mean(0) for train_set in training_stacked_digits]"
      ]
    },
    {
      "cell_type": "code",
      "execution_count": 8,
      "id": "5cbf7688-d3a6-4a8b-8af9-4942eca57a7e",
      "metadata": {
        "colab": {
          "base_uri": "https://localhost:8080/",
          "height": 346
        },
        "id": "5cbf7688-d3a6-4a8b-8af9-4942eca57a7e",
        "outputId": "fb49c6ac-59ef-48f1-b442-e85d231cd064"
      },
      "outputs": [
        {
          "data": {
            "image/png": "[encoded data removed]",
            "text/plain": [
              "<Figure size 640x480 with 10 Axes>"
            ]
          },
          "metadata": {},
          "output_type": "display_data"
        }
      ],
      "source": [
        "fig, ax = plt.subplots(nrows=2, ncols=5)\n",
        "for i in range(0, 5):\n",
        "  show_image(mean_list[i], ax=ax[0][i], title=i)\n",
        "  show_image(mean_list[i+5], ax=ax[1][i], title=i+5)"
      ]
    },
    {
      "cell_type": "markdown",
      "id": "0911ee45-af6c-4e09-96ee-f29ebb74a2a4",
      "metadata": {
        "id": "0911ee45-af6c-4e09-96ee-f29ebb74a2a4"
      },
      "source": [
        "## Make Prediction"
      ]
    },
    {
      "cell_type": "code",
      "execution_count": 9,
      "id": "f6fa8e17-6585-41e1-ab34-9a427ba04177",
      "metadata": {
        "id": "f6fa8e17-6585-41e1-ab34-9a427ba04177"
      },
      "outputs": [],
      "source": [
        "def predict(tensor,mean_list_copy,index):\n",
        "    distance_difference = F.mse_loss(tensor,mean_list_copy.pop(index)).sqrt()\n",
        "    for mean in mean_list_copy:\n",
        "        second_distance_difference = F.mse_loss(tensor,mean).sqrt()\n",
        "        if second_distance_difference <= distance_difference:\n",
        "            return False\n",
        "    return True"
      ]
    },
    {
      "cell_type": "code",
      "execution_count": 10,
      "id": "2ca1fa76-62d9-429b-80d6-440373e4b25e",
      "metadata": {
        "id": "2ca1fa76-62d9-429b-80d6-440373e4b25e"
      },
      "outputs": [],
      "source": [
        "empty_lists = [[] for _ in range(data_set_length)]\n",
        "predictions = [torch.tensor(lst) for lst in empty_lists]\n",
        "for index, test_stack in enumerate(test_stacked_digits):\n",
        "    for tensor in test_stack:\n",
        "        loss = predict(tensor,copy(mean_list),index)\n",
        "        predictions[index] = torch.cat((predictions[index], torch.tensor([loss])))"
      ]
    },
    {
      "cell_type": "markdown",
      "id": "0542fd19-d976-4c10-8eb8-4de60e4bb395",
      "metadata": {
        "id": "0542fd19-d976-4c10-8eb8-4de60e4bb395"
      },
      "source": [
        "## Show Accuracy"
      ]
    },
    {
      "cell_type": "code",
      "execution_count": 11,
      "id": "9e506ef4-cf5d-4813-8d8e-4ceb13305f4c",
      "metadata": {
        "colab": {
          "base_uri": "https://localhost:8080/"
        },
        "id": "9e506ef4-cf5d-4813-8d8e-4ceb13305f4c",
        "outputId": "6823173e-5a07-4cdf-db05-1f19357cc267"
      },
      "outputs": [
        {
          "name": "stdout",
          "output_type": "stream",
          "text": [
            "individual accuracy\n",
            "0:0.8959183692932129\n",
            "1:0.9621145129203796\n",
            "2:0.7567829489707947\n",
            "3:0.805940568447113\n",
            "4:0.8258655667304993\n",
            "5:0.6860986351966858\n",
            "6:0.8632568120956421\n",
            "7:0.8326848149299622\n",
            "8:0.7371663451194763\n",
            "9:0.806739330291748\n",
            "Total accuracy: 0.8172568082809448\n"
          ]
        }
      ],
      "source": [
        "print(\"individual accuracy\")\n",
        "accuracy = [prediction.mean() for prediction in predictions]\n",
        "for index, acc in enumerate(accuracy):\n",
        "    print(f'{index}:{acc}')\n",
        "print(f'Total accuracy: {torch.tensor(accuracy).mean()}')"
      ]
    },
    {
      "cell_type": "markdown",
      "id": "e6302695-f624-44e7-bc3b-fc66126dd078",
      "metadata": {
        "id": "e6302695-f624-44e7-bc3b-fc66126dd078"
      },
      "source": [
        "## Deep learning approach\n",
        "1. *Initialize* the weights.\n",
        "1. For each image, use these weights to *predict* whether it appears to be the correct label.\n",
        "1. Based on these predictions, calculate how good the model is (its *loss*).\n",
        "1. Calculate the *gradient*, which measures for each weight, how changing that weight would change the loss\n",
        "1. *Step* (that is, change) all the weights based on that calculation.\n",
        "1. Go back to the step 2, and *repeat* the process.\n",
        "1. Iterate until you decide to *stop* the training process (for instance, because the model is good enough or you don't want to wait any longer)."
      ]
    },
    {
      "cell_type": "markdown",
      "id": "c9cd9d2a-bb75-443a-9f16-d18008a5b236",
      "metadata": {
        "id": "c9cd9d2a-bb75-443a-9f16-d18008a5b236"
      },
      "source": [
        "### Define the training set"
      ]
    },
    {
      "cell_type": "code",
      "execution_count": 12,
      "id": "3873f7cd-a1a7-40b9-ae57-7e8fcca9f3c0",
      "metadata": {
        "id": "3873f7cd-a1a7-40b9-ae57-7e8fcca9f3c0"
      },
      "outputs": [],
      "source": [
        "training_digits = torch.cat(training_stacked_digits).view(-1, 28*28)\n",
        "label_list = [[index] * len(digit) for index,digit in enumerate(training_stacked_digits)]\n",
        "training_labels = torch.tensor((reduce(lambda x,y: x + y, label_list)))\n",
        "training_dataset = list(zip(training_digits,training_labels))\n",
        "training_dl = DataLoader(training_dataset,batch_size=256)"
      ]
    },
    {
      "cell_type": "code",
      "execution_count": 13,
      "id": "NJivEaDa9ks6",
      "metadata": {
        "colab": {
          "base_uri": "https://localhost:8080/"
        },
        "id": "NJivEaDa9ks6",
        "outputId": "5fa31147-6ffd-4f75-dc96-dcbaceac743d"
      },
      "outputs": [
        {
          "data": {
            "text/plain": [
              "(torch.Size([256, 784]), torch.Size([256]))"
            ]
          },
          "execution_count": 13,
          "metadata": {},
          "output_type": "execute_result"
        }
      ],
      "source": [
        "first(training_dl)[0].shape,first(training_dl)[1].shape"
      ]
    },
    {
      "cell_type": "markdown",
      "id": "fdf7bb47-cccd-44bc-99b3-701421b54230",
      "metadata": {
        "id": "fdf7bb47-cccd-44bc-99b3-701421b54230"
      },
      "source": [
        "### Define the test test"
      ]
    },
    {
      "cell_type": "code",
      "execution_count": 14,
      "id": "25dfe991-ea43-4a3e-af21-22a29ef489a8",
      "metadata": {
        "id": "25dfe991-ea43-4a3e-af21-22a29ef489a8"
      },
      "outputs": [],
      "source": [
        "test_digits = torch.cat(test_stacked_digits).view(-1, 28*28)\n",
        "label_list  = [[index] * len(digit) for index,digit in enumerate(test_stacked_digits)]\n",
        "test_labels = torch.tensor(reduce(lambda x,y: x + y, label_list))\n",
        "test_datasest = list(zip(test_digits,test_labels))\n",
        "test_dl = DataLoader(test_datasest,batch_size=256)"
      ]
    },
    {
      "cell_type": "code",
      "execution_count": 15,
      "id": "eHPzWzh89nfc",
      "metadata": {
        "colab": {
          "base_uri": "https://localhost:8080/"
        },
        "id": "eHPzWzh89nfc",
        "outputId": "20b9bc27-3dd6-4277-a7e8-7a80223afaeb"
      },
      "outputs": [
        {
          "data": {
            "text/plain": [
              "(torch.Size([256, 784]), torch.Size([256]))"
            ]
          },
          "execution_count": 15,
          "metadata": {},
          "output_type": "execute_result"
        }
      ],
      "source": [
        "first(test_dl)[0].shape,first(test_dl)[1].shape"
      ]
    },
    {
      "cell_type": "code",
      "execution_count": 16,
      "id": "7DKao_rSOyMa",
      "metadata": {
        "id": "7DKao_rSOyMa"
      },
      "outputs": [],
      "source": [
        "criterion = nn.CrossEntropyLoss()"
      ]
    },
    {
      "cell_type": "code",
      "execution_count": 17,
      "id": "55d0ea9b",
      "metadata": {
        "id": "55d0ea9b"
      },
      "outputs": [],
      "source": [
        "class Optimizer:\n",
        "    def __init__(self,init_params,learning_rate):\n",
        "        self.params, self.learning_rate = list(init_params),learning_rate\n",
        "\n",
        "    def calculate_gradient(self, training_set, labels, model):\n",
        "        predictions = model(training_set)\n",
        "        loss = criterion(predictions,labels)\n",
        "        loss.backward()\n",
        "\n",
        "    def batch_accuracy(self,pred, actual):\n",
        "        digit_pred = pred.max(dim=1)[1]\n",
        "        return (digit_pred==actual).float().mean()\n",
        "\n",
        "    def step(self):\n",
        "        for p in self.params:\n",
        "            p.data -= p.grad * self.learning_rate\n",
        "            p.grad.zero_()\n",
        "\n",
        "    def validate_epoch(self, model,test_dl):\n",
        "        accuracy = []\n",
        "        with torch.no_grad():\n",
        "          accuracy = [self.batch_accuracy(model(digits), label) for digits,label in test_dl ]\n",
        "        return round(torch.stack(accuracy).mean().item(), 4)"
      ]
    },
    {
      "cell_type": "code",
      "execution_count": 18,
      "id": "735aed00",
      "metadata": {
        "id": "735aed00"
      },
      "outputs": [],
      "source": [
        "simple_net = nn.Sequential(\n",
        "    nn.Linear(28*28,30),\n",
        "    nn.ReLU(),\n",
        "    nn.Linear(30,10)\n",
        ")\n",
        "opt = Optimizer(simple_net.parameters(),1e-3)"
      ]
    },
    {
      "cell_type": "code",
      "execution_count": 19,
      "id": "5fe0aa4a",
      "metadata": {
        "id": "5fe0aa4a"
      },
      "outputs": [],
      "source": [
        "def train_epoch(model):\n",
        "    for x,y in training_dl:\n",
        "        opt.calculate_gradient(x,y,model)\n",
        "        opt.step()"
      ]
    },
    {
      "cell_type": "code",
      "execution_count": 20,
      "id": "6634034a",
      "metadata": {
        "id": "6634034a"
      },
      "outputs": [],
      "source": [
        "def train_model(model,epoch):\n",
        "    for i in range(epoch):\n",
        "        train_epoch(model)\n",
        "        print(f'Current epoch:{i} Accuracy:{opt.validate_epoch(model,test_dl)}')"
      ]
    },
    {
      "cell_type": "code",
      "execution_count": 21,
      "id": "2OGsj18-_V4q",
      "metadata": {
        "colab": {
          "base_uri": "https://localhost:8080/"
        },
        "id": "2OGsj18-_V4q",
        "outputId": "f826378d-5de8-4a86-ddc2-235d393caf62"
      },
      "outputs": [
        {
          "name": "stdout",
          "output_type": "stream",
          "text": [
            "Current epoch:0 Accuracy:0.1719\n",
            "Current epoch:1 Accuracy:0.2659\n",
            "Current epoch:2 Accuracy:0.367\n",
            "Current epoch:3 Accuracy:0.4681\n",
            "Current epoch:4 Accuracy:0.5485\n",
            "Current epoch:5 Accuracy:0.6074\n",
            "Current epoch:6 Accuracy:0.6529\n",
            "Current epoch:7 Accuracy:0.6829\n",
            "Current epoch:8 Accuracy:0.6998\n",
            "Current epoch:9 Accuracy:0.705\n",
            "Current epoch:10 Accuracy:0.708\n",
            "Current epoch:11 Accuracy:0.7063\n",
            "Current epoch:12 Accuracy:0.7078\n",
            "Current epoch:13 Accuracy:0.7107\n",
            "Current epoch:14 Accuracy:0.7121\n",
            "Current epoch:15 Accuracy:0.7146\n",
            "Current epoch:16 Accuracy:0.7185\n",
            "Current epoch:17 Accuracy:0.7214\n",
            "Current epoch:18 Accuracy:0.7285\n",
            "Current epoch:19 Accuracy:0.7343\n",
            "Current epoch:20 Accuracy:0.7399\n",
            "Current epoch:21 Accuracy:0.7457\n",
            "Current epoch:22 Accuracy:0.7507\n",
            "Current epoch:23 Accuracy:0.7575\n",
            "Current epoch:24 Accuracy:0.7626\n",
            "Current epoch:25 Accuracy:0.7681\n",
            "Current epoch:26 Accuracy:0.7735\n",
            "Current epoch:27 Accuracy:0.7783\n",
            "Current epoch:28 Accuracy:0.7844\n",
            "Current epoch:29 Accuracy:0.7889\n",
            "Current epoch:30 Accuracy:0.794\n",
            "Current epoch:31 Accuracy:0.7982\n",
            "Current epoch:32 Accuracy:0.8018\n",
            "Current epoch:33 Accuracy:0.805\n",
            "Current epoch:34 Accuracy:0.8085\n",
            "Current epoch:35 Accuracy:0.8126\n",
            "Current epoch:36 Accuracy:0.8163\n",
            "Current epoch:37 Accuracy:0.8211\n",
            "Current epoch:38 Accuracy:0.8239\n",
            "Current epoch:39 Accuracy:0.8264\n",
            "Current epoch:40 Accuracy:0.8286\n",
            "Current epoch:41 Accuracy:0.8319\n",
            "Current epoch:42 Accuracy:0.8348\n",
            "Current epoch:43 Accuracy:0.8376\n",
            "Current epoch:44 Accuracy:0.8399\n",
            "Current epoch:45 Accuracy:0.8416\n",
            "Current epoch:46 Accuracy:0.8437\n",
            "Current epoch:47 Accuracy:0.8454\n",
            "Current epoch:48 Accuracy:0.8474\n",
            "Current epoch:49 Accuracy:0.8488\n",
            "Current epoch:50 Accuracy:0.8507\n",
            "Current epoch:51 Accuracy:0.8523\n",
            "Current epoch:52 Accuracy:0.8517\n",
            "Current epoch:53 Accuracy:0.8529\n",
            "Current epoch:54 Accuracy:0.8543\n",
            "Current epoch:55 Accuracy:0.8568\n",
            "Current epoch:56 Accuracy:0.8585\n",
            "Current epoch:57 Accuracy:0.8594\n",
            "Current epoch:58 Accuracy:0.8611\n",
            "Current epoch:59 Accuracy:0.8624\n",
            "Current epoch:60 Accuracy:0.8637\n",
            "Current epoch:61 Accuracy:0.8649\n",
            "Current epoch:62 Accuracy:0.866\n",
            "Current epoch:63 Accuracy:0.8677\n",
            "Current epoch:64 Accuracy:0.8688\n",
            "Current epoch:65 Accuracy:0.8698\n",
            "Current epoch:66 Accuracy:0.8714\n",
            "Current epoch:67 Accuracy:0.8724\n",
            "Current epoch:68 Accuracy:0.8726\n",
            "Current epoch:69 Accuracy:0.873\n",
            "Current epoch:70 Accuracy:0.8736\n",
            "Current epoch:71 Accuracy:0.8743\n",
            "Current epoch:72 Accuracy:0.875\n",
            "Current epoch:73 Accuracy:0.8756\n",
            "Current epoch:74 Accuracy:0.8766\n",
            "Current epoch:75 Accuracy:0.8771\n",
            "Current epoch:76 Accuracy:0.8776\n",
            "Current epoch:77 Accuracy:0.8778\n",
            "Current epoch:78 Accuracy:0.8782\n",
            "Current epoch:79 Accuracy:0.8784\n",
            "Current epoch:80 Accuracy:0.8787\n",
            "Current epoch:81 Accuracy:0.8793\n",
            "Current epoch:82 Accuracy:0.88\n",
            "Current epoch:83 Accuracy:0.8804\n",
            "Current epoch:84 Accuracy:0.8809\n",
            "Current epoch:85 Accuracy:0.8813\n",
            "Current epoch:86 Accuracy:0.8823\n",
            "Current epoch:87 Accuracy:0.8826\n",
            "Current epoch:88 Accuracy:0.8833\n",
            "Current epoch:89 Accuracy:0.8834\n",
            "Current epoch:90 Accuracy:0.8836\n",
            "Current epoch:91 Accuracy:0.8839\n",
            "Current epoch:92 Accuracy:0.8843\n",
            "Current epoch:93 Accuracy:0.8847\n",
            "Current epoch:94 Accuracy:0.885\n",
            "Current epoch:95 Accuracy:0.8852\n",
            "Current epoch:96 Accuracy:0.8855\n",
            "Current epoch:97 Accuracy:0.8861\n",
            "Current epoch:98 Accuracy:0.8866\n",
            "Current epoch:99 Accuracy:0.8873\n"
          ]
        }
      ],
      "source": [
        "train_model(simple_net,100)"
      ]
    },
    {
      "cell_type": "markdown",
      "id": "a3bc495e",
      "metadata": {},
      "source": [
        "## Create Learner"
      ]
    },
    {
      "cell_type": "code",
      "execution_count": 31,
      "id": "19afd74f",
      "metadata": {},
      "outputs": [],
      "source": [
        "class Trainer:\n",
        "    def __init__(self, dls, model, opt_func, loss_func, metrics):\n",
        "        self.dls, self.model, self.parameters, self.opt_func, self.loss_func, self.metrics =  dls, model, list(model.parameters()),opt_func, loss_func, metrics\n",
        "\n",
        "    def fit(self, epoch, learning_rate):\n",
        "        training_dl, test_dl = self.dls\n",
        "        opt = self.opt_func(self.model.parameters(),learning_rate)\n",
        "        info = {}\n",
        "        for i in range(epoch):\n",
        "            info[\"epoch\"] = i\n",
        "            start_time = time.time()\n",
        "\n",
        "            total_training_loss = 0\n",
        "            for x,y in training_dl:\n",
        "                predictions = self.model(x)\n",
        "                loss = self.loss_func(predictions,y)\n",
        "                total_training_loss += loss\n",
        "                loss.backward()\n",
        "                opt.step()\n",
        "                opt.zero_grad()\n",
        "            info[\"train_loss\"] = total_training_loss\n",
        "\n",
        "            total_test_loss = 0\n",
        "            accuracy_list = []\n",
        "            for x,y in test_dl:\n",
        "                predictions = self.model(x)\n",
        "                loss = self.loss_func(predictions,y)\n",
        "                total_test_loss += loss\n",
        "                accuracy_list.append(self.metrics(predictions,y))\n",
        "            info[\"valid_loss\"] = total_test_loss\n",
        "            \n",
        "            accuracy = round(torch.stack(accuracy_list).mean().item(), 4) \n",
        "            info[\"accuracy\"] = accuracy\n",
        "\n",
        "            end_time = time.time()\n",
        "            execution_time_minutes = (end_time - start_time) / 60 \n",
        "            info[\"time\"] = execution_time_minutes\n",
        "\n",
        "            self.print_info(info)\n",
        "\n",
        "    def print_info(self, info):\n",
        "        print(f'epoch:{info[\"epoch\"]}|train_loss:{info[\"train_loss\"]}|valid_loss:{info[\"valid_loss\"]}|accuracy:{info[\"accuracy\"]}|time:{info[\"time\"]}')"
      ]
    },
    {
      "cell_type": "code",
      "execution_count": 32,
      "id": "514db051",
      "metadata": {},
      "outputs": [],
      "source": [
        "dls = (training_dl,test_dl)\n",
        "simple_net = nn.Sequential(\n",
        "    nn.Linear(28*28,30),\n",
        "    nn.ReLU(),\n",
        "    nn.Linear(30,10)\n",
        ")\n",
        "def batch_accuracy(pred, actual):\n",
        "    digit_pred = pred.max(dim=1)[1]\n",
        "    return (digit_pred==actual).float().mean()\n",
        "learn = Trainer(dls,simple_net,opt_func=SGD,loss_func=criterion,metrics=batch_accuracy)"
      ]
    },
    {
      "cell_type": "code",
      "execution_count": 33,
      "id": "15f28d88",
      "metadata": {},
      "outputs": [
        {
          "name": "stdout",
          "output_type": "stream",
          "text": [
            "epoch:0|train_loss:539.1688232421875|valid_loss:91.19062805175781|accuracy:0.1807|time:0.010060282548268636\n",
            "epoch:1|train_loss:531.2293701171875|valid_loss:89.81890869140625|accuracy:0.29|time:0.00806654691696167\n",
            "epoch:2|train_loss:522.5855102539062|valid_loss:88.20464324951172|accuracy:0.3691|time:0.007480057080586752\n",
            "epoch:3|train_loss:512.4641723632812|valid_loss:86.33870697021484|accuracy:0.4454|time:0.008408017953236898\n",
            "epoch:4|train_loss:501.1940612792969|valid_loss:84.32230377197266|accuracy:0.5073|time:0.007466757297515869\n",
            "epoch:5|train_loss:489.0737609863281|valid_loss:82.1650390625|accuracy:0.5531|time:0.007121912638346354\n",
            "epoch:6|train_loss:476.08367919921875|valid_loss:79.86344146728516|accuracy:0.5832|time:0.00763778289159139\n",
            "epoch:7|train_loss:462.1250915527344|valid_loss:77.37974548339844|accuracy:0.6071|time:0.007515410582224528\n",
            "epoch:8|train_loss:447.16632080078125|valid_loss:74.76214599609375|accuracy:0.6294|time:0.007716349760691325\n",
            "epoch:9|train_loss:431.6831359863281|valid_loss:72.07350158691406|accuracy:0.6472|time:0.007440586884816487\n",
            "epoch:10|train_loss:415.8605041503906|valid_loss:69.33380126953125|accuracy:0.6569|time:0.006924565633138021\n",
            "epoch:11|train_loss:399.767333984375|valid_loss:66.5685806274414|accuracy:0.6615|time:0.006267909208933512\n",
            "epoch:12|train_loss:383.55828857421875|valid_loss:63.816368103027344|accuracy:0.6637|time:0.0057876348495483395\n",
            "epoch:13|train_loss:367.44482421875|valid_loss:61.11100387573242|accuracy:0.671|time:0.00605003039042155\n",
            "epoch:14|train_loss:351.595947265625|valid_loss:58.479766845703125|accuracy:0.6794|time:0.005578243732452392\n",
            "epoch:15|train_loss:336.1772766113281|valid_loss:55.94292068481445|accuracy:0.6876|time:0.005773615837097168\n",
            "epoch:16|train_loss:321.3162841796875|valid_loss:53.51706314086914|accuracy:0.6974|time:0.005839852492014567\n",
            "epoch:17|train_loss:307.107421875|valid_loss:51.21452331542969|accuracy:0.7066|time:0.005936900774637858\n",
            "epoch:18|train_loss:293.6350402832031|valid_loss:49.04336166381836|accuracy:0.7169|time:0.005384989579518636\n",
            "epoch:19|train_loss:280.94708251953125|valid_loss:47.007423400878906|accuracy:0.7262|time:0.005478715896606446\n",
            "epoch:20|train_loss:269.063232421875|valid_loss:45.10717010498047|accuracy:0.736|time:0.006010802586873373\n",
            "epoch:21|train_loss:257.98846435546875|valid_loss:43.33991622924805|accuracy:0.744|time:0.0054625948270161945\n",
            "epoch:22|train_loss:247.70448303222656|valid_loss:41.699947357177734|accuracy:0.7528|time:0.005303315321604411\n",
            "epoch:23|train_loss:238.176513671875|valid_loss:40.18031692504883|accuracy:0.7607|time:0.00587619145711263\n",
            "epoch:24|train_loss:229.36343383789062|valid_loss:38.77288055419922|accuracy:0.7674|time:0.006321907043457031\n",
            "epoch:25|train_loss:221.21629333496094|valid_loss:37.46965026855469|accuracy:0.7753|time:0.005795784791310628\n",
            "epoch:26|train_loss:213.6855010986328|valid_loss:36.26289749145508|accuracy:0.7821|time:0.005875221888224284\n",
            "epoch:27|train_loss:206.72760009765625|valid_loss:35.14420700073242|accuracy:0.7893|time:0.006209341684977213\n",
            "epoch:28|train_loss:200.2921142578125|valid_loss:34.10625076293945|accuracy:0.794|time:0.006086782614390055\n",
            "epoch:29|train_loss:194.337890625|valid_loss:33.142337799072266|accuracy:0.7986|time:0.006769208113352457\n",
            "epoch:30|train_loss:188.8190460205078|valid_loss:32.246273040771484|accuracy:0.8038|time:0.006048798561096191\n",
            "epoch:31|train_loss:183.7014617919922|valid_loss:31.411840438842773|accuracy:0.8076|time:0.005566326777140299\n",
            "epoch:32|train_loss:178.94793701171875|valid_loss:30.633583068847656|accuracy:0.8108|time:0.0060847798983256025\n",
            "epoch:33|train_loss:174.52557373046875|valid_loss:29.906633377075195|accuracy:0.8152|time:0.0061669548352559405\n",
            "epoch:34|train_loss:170.40631103515625|valid_loss:29.226572036743164|accuracy:0.8193|time:0.005733811855316162\n",
            "epoch:35|train_loss:166.56289672851562|valid_loss:28.58938980102539|accuracy:0.8218|time:0.005931500593821208\n",
            "epoch:36|train_loss:162.9700927734375|valid_loss:27.99141502380371|accuracy:0.8247|time:0.006000204881032308\n",
            "epoch:37|train_loss:159.60574340820312|valid_loss:27.429582595825195|accuracy:0.8276|time:0.00584956407546997\n",
            "epoch:38|train_loss:156.4542999267578|valid_loss:26.900747299194336|accuracy:0.8297|time:0.005618655681610107\n",
            "epoch:39|train_loss:153.49453735351562|valid_loss:26.402328491210938|accuracy:0.8322|time:0.00595771074295044\n",
            "epoch:40|train_loss:150.71044921875|valid_loss:25.93185806274414|accuracy:0.8343|time:0.0057147502899169925\n",
            "epoch:41|train_loss:148.08966064453125|valid_loss:25.487133026123047|accuracy:0.8373|time:0.005591766039530436\n",
            "epoch:42|train_loss:145.61639404296875|valid_loss:25.066322326660156|accuracy:0.8394|time:0.005413222312927246\n",
            "epoch:43|train_loss:143.2796630859375|valid_loss:24.667627334594727|accuracy:0.841|time:0.005664245287577311\n",
            "epoch:44|train_loss:141.07066345214844|valid_loss:24.289304733276367|accuracy:0.8431|time:0.0054860671361287435\n",
            "epoch:45|train_loss:138.978271484375|valid_loss:23.929723739624023|accuracy:0.8454|time:0.005732293923695882\n",
            "epoch:46|train_loss:136.99331665039062|valid_loss:23.587846755981445|accuracy:0.8465|time:0.006020180384318034\n",
            "epoch:47|train_loss:135.10914611816406|valid_loss:23.26225471496582|accuracy:0.8482|time:0.005847446123758952\n",
            "epoch:48|train_loss:133.3177490234375|valid_loss:22.952085494995117|accuracy:0.85|time:0.005667150020599365\n",
            "epoch:49|train_loss:131.6124267578125|valid_loss:22.656248092651367|accuracy:0.8511|time:0.005931699275970459\n",
            "epoch:50|train_loss:129.98873901367188|valid_loss:22.373546600341797|accuracy:0.8529|time:0.005589139461517334\n",
            "epoch:51|train_loss:128.4384765625|valid_loss:22.103334426879883|accuracy:0.8542|time:0.006027193864186605\n",
            "epoch:52|train_loss:126.959228515625|valid_loss:21.844675064086914|accuracy:0.8559|time:0.005826278527577718\n",
            "epoch:53|train_loss:125.54441833496094|valid_loss:21.596981048583984|accuracy:0.857|time:0.005707887808481852\n",
            "epoch:54|train_loss:124.19093322753906|valid_loss:21.35964584350586|accuracy:0.8583|time:0.006303111712137858\n",
            "epoch:55|train_loss:122.894775390625|valid_loss:21.131908416748047|accuracy:0.8595|time:0.0060790061950683595\n",
            "epoch:56|train_loss:121.65202331542969|valid_loss:20.913305282592773|accuracy:0.8609|time:0.006491521994272868\n",
            "epoch:57|train_loss:120.4605941772461|valid_loss:20.70341682434082|accuracy:0.8627|time:0.006042778491973877\n",
            "epoch:58|train_loss:119.31767272949219|valid_loss:20.501440048217773|accuracy:0.8636|time:0.006137382984161377\n",
            "epoch:59|train_loss:118.21871948242188|valid_loss:20.307119369506836|accuracy:0.8648|time:0.005819257100423177\n",
            "epoch:60|train_loss:117.16155242919922|valid_loss:20.120210647583008|accuracy:0.8655|time:0.0061573624610900875\n",
            "epoch:61|train_loss:116.14442443847656|valid_loss:19.940065383911133|accuracy:0.8663|time:0.005890663464864095\n",
            "epoch:62|train_loss:115.1654052734375|valid_loss:19.76624870300293|accuracy:0.8683|time:0.006391791502634684\n",
            "epoch:63|train_loss:114.22052001953125|valid_loss:19.598590850830078|accuracy:0.8698|time:0.0064370036125183105\n",
            "epoch:64|train_loss:113.30994415283203|valid_loss:19.436826705932617|accuracy:0.8705|time:0.007790128389994304\n",
            "epoch:65|train_loss:112.43089294433594|valid_loss:19.280710220336914|accuracy:0.871|time:0.0061751723289489744\n",
            "epoch:66|train_loss:111.58277893066406|valid_loss:19.129873275756836|accuracy:0.8723|time:0.006816673278808594\n",
            "epoch:67|train_loss:110.76335144042969|valid_loss:18.984102249145508|accuracy:0.8729|time:0.007267717520395915\n",
            "epoch:68|train_loss:109.97154998779297|valid_loss:18.8431396484375|accuracy:0.8736|time:0.006686381498972575\n",
            "epoch:69|train_loss:109.20574188232422|valid_loss:18.70659828186035|accuracy:0.8726|time:0.0058199087778727215\n",
            "epoch:70|train_loss:108.46527099609375|valid_loss:18.574434280395508|accuracy:0.8729|time:0.005737479527791341\n",
            "epoch:71|train_loss:107.74725341796875|valid_loss:18.446331024169922|accuracy:0.8734|time:0.006024340788523356\n",
            "epoch:72|train_loss:107.05072784423828|valid_loss:18.32223129272461|accuracy:0.8746|time:0.0059230963389078775\n",
            "epoch:73|train_loss:106.37596893310547|valid_loss:18.201993942260742|accuracy:0.8754|time:0.007418151696523031\n",
            "epoch:74|train_loss:105.72245788574219|valid_loss:18.085309982299805|accuracy:0.8761|time:0.007561711470286051\n",
            "epoch:75|train_loss:105.08720397949219|valid_loss:17.972152709960938|accuracy:0.8772|time:0.0064561724662780765\n",
            "epoch:76|train_loss:104.47134399414062|valid_loss:17.862253189086914|accuracy:0.8781|time:0.006446802616119384\n",
            "epoch:77|train_loss:103.87303924560547|valid_loss:17.755464553833008|accuracy:0.8787|time:0.005837273597717285\n",
            "epoch:78|train_loss:103.2912368774414|valid_loss:17.651752471923828|accuracy:0.8794|time:0.0060150345166524255\n",
            "epoch:79|train_loss:102.7255630493164|valid_loss:17.550918579101562|accuracy:0.8796|time:0.007165280977884928\n",
            "epoch:80|train_loss:102.17552185058594|valid_loss:17.452800750732422|accuracy:0.8801|time:0.006261992454528809\n",
            "epoch:81|train_loss:101.641357421875|valid_loss:17.3573055267334|accuracy:0.8805|time:0.005770039558410644\n",
            "epoch:82|train_loss:101.12042999267578|valid_loss:17.264467239379883|accuracy:0.8811|time:0.006015590826670329\n",
            "epoch:83|train_loss:100.61383819580078|valid_loss:17.17403221130371|accuracy:0.8814|time:0.005824395020802816\n",
            "epoch:84|train_loss:100.12039184570312|valid_loss:17.085933685302734|accuracy:0.8817|time:0.006194595495859782\n",
            "epoch:85|train_loss:99.6386947631836|valid_loss:17.00011444091797|accuracy:0.8824|time:0.0059686859448750814\n",
            "epoch:86|train_loss:99.17012023925781|valid_loss:16.916460037231445|accuracy:0.8827|time:0.005388927459716797\n",
            "epoch:87|train_loss:98.71258544921875|valid_loss:16.834976196289062|accuracy:0.8832|time:0.005761667092641195\n",
            "epoch:88|train_loss:98.26676177978516|valid_loss:16.755443572998047|accuracy:0.8834|time:0.00573957363764445\n",
            "epoch:89|train_loss:97.83063507080078|valid_loss:16.67792320251465|accuracy:0.8837|time:0.005801554520924886\n",
            "epoch:90|train_loss:97.4056167602539|valid_loss:16.602285385131836|accuracy:0.8842|time:0.0060846845308939615\n",
            "epoch:91|train_loss:96.99065399169922|valid_loss:16.528390884399414|accuracy:0.8848|time:0.005803791681925455\n",
            "epoch:92|train_loss:96.58534240722656|valid_loss:16.45623207092285|accuracy:0.8852|time:0.005961402257283529\n",
            "epoch:93|train_loss:96.18851470947266|valid_loss:16.38582420349121|accuracy:0.8854|time:0.005724016825358073\n",
            "epoch:94|train_loss:95.80105590820312|valid_loss:16.317062377929688|accuracy:0.8854|time:0.005806990464528402\n",
            "epoch:95|train_loss:95.42234802246094|valid_loss:16.249792098999023|accuracy:0.8856|time:0.0059866746266682945\n",
            "epoch:96|train_loss:95.05165100097656|valid_loss:16.184011459350586|accuracy:0.8867|time:0.006028155485788981\n",
            "epoch:97|train_loss:94.68888854980469|valid_loss:16.11973762512207|accuracy:0.8872|time:0.005762660503387451\n",
            "epoch:98|train_loss:94.33409118652344|valid_loss:16.05684471130371|accuracy:0.8878|time:0.0063741087913513185\n",
            "epoch:99|train_loss:93.98713684082031|valid_loss:15.995254516601562|accuracy:0.8881|time:0.005782413482666016\n"
          ]
        }
      ],
      "source": [
        "learn.fit(100,1e-3)"
      ]
    }
  ],
  "metadata": {
    "accelerator": "GPU",
    "colab": {
      "gpuType": "T4",
      "provenance": []
    },
    "kernelspec": {
      "display_name": "Python 3 (ipykernel)",
      "language": "python",
      "name": "python3"
    },
    "language_info": {
      "codemirror_mode": {
        "name": "ipython",
        "version": 3
      },
      "file_extension": ".py",
      "mimetype": "text/x-python",
      "name": "python",
      "nbconvert_exporter": "python",
      "pygments_lexer": "ipython3",
      "version": "3.11.8"
    }
  },
  "nbformat": 4,
  "nbformat_minor": 5
}
