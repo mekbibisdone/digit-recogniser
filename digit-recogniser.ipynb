{
  "cells": [
    {
      "cell_type": "code",
      "execution_count": 1,
      "id": "3417a546-4aa8-4ed7-b687-8e787ad4ca12",
      "metadata": {
        "id": "3417a546-4aa8-4ed7-b687-8e787ad4ca12"
      },
      "outputs": [],
      "source": [
        "from fastai.vision.all import *\n",
        "from functools import reduce"
      ]
    },
    {
      "cell_type": "markdown",
      "id": "26c5d45b-d459-4645-819a-b6b60c8ac752",
      "metadata": {
        "id": "26c5d45b-d459-4645-819a-b6b60c8ac752"
      },
      "source": [
        "## Gather Dataset"
      ]
    },
    {
      "cell_type": "code",
      "execution_count": 2,
      "id": "156b62b2-6609-4349-af12-2268864d6567",
      "metadata": {
        "id": "156b62b2-6609-4349-af12-2268864d6567"
      },
      "outputs": [],
      "source": [
        "data_set_length = 10"
      ]
    },
    {
      "cell_type": "code",
      "execution_count": 3,
      "id": "bbca9af4-e5ea-458d-b5fd-ff6197ce91fc",
      "metadata": {
        "colab": {
          "base_uri": "https://localhost:8080/",
          "height": 54
        },
        "id": "bbca9af4-e5ea-458d-b5fd-ff6197ce91fc",
        "outputId": "9239e4c8-1721-4e25-92ff-47065b9425b1"
      },
      "outputs": [
        {
          "data": {
            "text/plain": [
              "(#2) [Path('training'),Path('testing')]"
            ]
          },
          "execution_count": 3,
          "metadata": {},
          "output_type": "execute_result"
        }
      ],
      "source": [
        "path = untar_data(URLs.MNIST)\n",
        "Path.BASE_PATH = path\n",
        "path.ls()"
      ]
    },
    {
      "cell_type": "markdown",
      "id": "d132e939-ed5b-4b9f-8450-6b948674b953",
      "metadata": {
        "id": "d132e939-ed5b-4b9f-8450-6b948674b953"
      },
      "source": [
        "### Define training dataset"
      ]
    },
    {
      "cell_type": "code",
      "execution_count": 4,
      "id": "eec2ce05-7d47-4a11-9d04-adffa03eac63",
      "metadata": {
        "id": "eec2ce05-7d47-4a11-9d04-adffa03eac63"
      },
      "outputs": [],
      "source": [
        "training_paths = [(path/f'training/{num}').ls().sorted() for num in range(data_set_length)]\n",
        "training_tensors = [[tensor(Image.open(im)) for im in path] for path in training_paths]\n",
        "training_stacked_digits = [torch.stack(tensors)/255 for tensors in training_tensors]"
      ]
    },
    {
      "cell_type": "markdown",
      "id": "26408e96-7564-45d3-9cba-601e98d6c119",
      "metadata": {
        "id": "26408e96-7564-45d3-9cba-601e98d6c119"
      },
      "source": [
        "### Define testing dataset"
      ]
    },
    {
      "cell_type": "code",
      "execution_count": 5,
      "id": "f4709186-c9fa-48be-93be-d62641f2d02f",
      "metadata": {
        "id": "f4709186-c9fa-48be-93be-d62641f2d02f"
      },
      "outputs": [],
      "source": [
        "test_paths = [(path/f'testing/{num}').ls().sorted() for num in range(data_set_length)]\n",
        "test_tensors = [[tensor(Image.open(im)) for im in path] for path in test_paths]\n",
        "test_stacked_digits = [torch.stack(tensors)/255 for tensors in test_tensors]"
      ]
    },
    {
      "cell_type": "code",
      "execution_count": 6,
      "id": "kvcaBAWfBvQE",
      "metadata": {
        "colab": {
          "base_uri": "https://localhost:8080/"
        },
        "id": "kvcaBAWfBvQE",
        "outputId": "2ded1885-84ff-47bb-cdfb-dcbba982c84a"
      },
      "outputs": [
        {
          "data": {
            "text/plain": [
              "980"
            ]
          },
          "execution_count": 6,
          "metadata": {},
          "output_type": "execute_result"
        }
      ],
      "source": [
        "len(test_stacked_digits[0])"
      ]
    },
    {
      "cell_type": "markdown",
      "id": "dd56cf6f-54dc-4784-b477-481f626efa7f",
      "metadata": {
        "id": "dd56cf6f-54dc-4784-b477-481f626efa7f"
      },
      "source": [
        "## Pixel similarity approach"
      ]
    },
    {
      "cell_type": "markdown",
      "id": "1ddbcc9e-c29f-4c3d-bdcb-127870264cb2",
      "metadata": {
        "id": "1ddbcc9e-c29f-4c3d-bdcb-127870264cb2"
      },
      "source": [
        "### Get The average look of each digit"
      ]
    },
    {
      "cell_type": "code",
      "execution_count": 7,
      "id": "1a0b75d8-4358-4bbb-ab62-7c11ffc0b5f0",
      "metadata": {
        "id": "1a0b75d8-4358-4bbb-ab62-7c11ffc0b5f0"
      },
      "outputs": [],
      "source": [
        "empty_lists = [[] for _ in range(data_set_length)]\n",
        "mean_list = [train_set.mean(0) for train_set in training_stacked_digits]"
      ]
    },
    {
      "cell_type": "code",
      "execution_count": 8,
      "id": "5cbf7688-d3a6-4a8b-8af9-4942eca57a7e",
      "metadata": {
        "colab": {
          "base_uri": "https://localhost:8080/",
          "height": 346
        },
        "id": "5cbf7688-d3a6-4a8b-8af9-4942eca57a7e",
        "outputId": "fb49c6ac-59ef-48f1-b442-e85d231cd064"
      },
      "outputs": [
        {
          "data": {
            "image/png": "[encoded data removed]",
            "text/plain": [
              "<Figure size 640x480 with 10 Axes>"
            ]
          },
          "metadata": {},
          "output_type": "display_data"
        }
      ],
      "source": [
        "fig, ax = plt.subplots(nrows=2, ncols=5)\n",
        "for i in range(0, 5):\n",
        "  show_image(mean_list[i], ax=ax[0][i], title=i)\n",
        "  show_image(mean_list[i+5], ax=ax[1][i], title=i+5)"
      ]
    },
    {
      "cell_type": "markdown",
      "id": "0911ee45-af6c-4e09-96ee-f29ebb74a2a4",
      "metadata": {
        "id": "0911ee45-af6c-4e09-96ee-f29ebb74a2a4"
      },
      "source": [
        "## Make Prediction"
      ]
    },
    {
      "cell_type": "code",
      "execution_count": 9,
      "id": "f6fa8e17-6585-41e1-ab34-9a427ba04177",
      "metadata": {
        "id": "f6fa8e17-6585-41e1-ab34-9a427ba04177"
      },
      "outputs": [],
      "source": [
        "def predict(tensor,mean_list_copy,index):\n",
        "    distance_difference = F.mse_loss(tensor,mean_list_copy.pop(index)).sqrt()\n",
        "    for mean in mean_list_copy:\n",
        "        second_distance_difference = F.mse_loss(tensor,mean).sqrt()\n",
        "        if second_distance_difference <= distance_difference:\n",
        "            return False\n",
        "    return True"
      ]
    },
    {
      "cell_type": "code",
      "execution_count": 10,
      "id": "2ca1fa76-62d9-429b-80d6-440373e4b25e",
      "metadata": {
        "id": "2ca1fa76-62d9-429b-80d6-440373e4b25e"
      },
      "outputs": [],
      "source": [
        "empty_lists = [[] for _ in range(data_set_length)]\n",
        "predictions = [torch.tensor(lst) for lst in empty_lists]\n",
        "for index, test_stack in enumerate(test_stacked_digits):\n",
        "    for tensor in test_stack:\n",
        "        loss = predict(tensor,copy(mean_list),index)\n",
        "        predictions[index] = torch.cat((predictions[index], torch.tensor([loss])))"
      ]
    },
    {
      "cell_type": "markdown",
      "id": "0542fd19-d976-4c10-8eb8-4de60e4bb395",
      "metadata": {
        "id": "0542fd19-d976-4c10-8eb8-4de60e4bb395"
      },
      "source": [
        "## Show Accuracy"
      ]
    },
    {
      "cell_type": "code",
      "execution_count": 11,
      "id": "9e506ef4-cf5d-4813-8d8e-4ceb13305f4c",
      "metadata": {
        "colab": {
          "base_uri": "https://localhost:8080/"
        },
        "id": "9e506ef4-cf5d-4813-8d8e-4ceb13305f4c",
        "outputId": "6823173e-5a07-4cdf-db05-1f19357cc267"
      },
      "outputs": [
        {
          "name": "stdout",
          "output_type": "stream",
          "text": [
            "individual accuracy\n",
            "0:0.8959183692932129\n",
            "1:0.9621145129203796\n",
            "2:0.7567829489707947\n",
            "3:0.805940568447113\n",
            "4:0.8258655667304993\n",
            "5:0.6860986351966858\n",
            "6:0.8632568120956421\n",
            "7:0.8326848149299622\n",
            "8:0.7371663451194763\n",
            "9:0.806739330291748\n",
            "Total accuracy: 0.8172568082809448\n"
          ]
        }
      ],
      "source": [
        "print(\"individual accuracy\")\n",
        "accuracy = [prediction.mean() for prediction in predictions]\n",
        "for index, acc in enumerate(accuracy):\n",
        "    print(f'{index}:{acc}')\n",
        "print(f'Total accuracy: {torch.tensor(accuracy).mean()}')"
      ]
    },
    {
      "cell_type": "markdown",
      "id": "e6302695-f624-44e7-bc3b-fc66126dd078",
      "metadata": {
        "id": "e6302695-f624-44e7-bc3b-fc66126dd078"
      },
      "source": [
        "## Deep learning approach\n",
        "1. *Initialize* the weights.\n",
        "1. For each image, use these weights to *predict* whether it appears to be the correct label.\n",
        "1. Based on these predictions, calculate how good the model is (its *loss*).\n",
        "1. Calculate the *gradient*, which measures for each weight, how changing that weight would change the loss\n",
        "1. *Step* (that is, change) all the weights based on that calculation.\n",
        "1. Go back to the step 2, and *repeat* the process.\n",
        "1. Iterate until you decide to *stop* the training process (for instance, because the model is good enough or you don't want to wait any longer)."
      ]
    },
    {
      "cell_type": "markdown",
      "id": "c9cd9d2a-bb75-443a-9f16-d18008a5b236",
      "metadata": {
        "id": "c9cd9d2a-bb75-443a-9f16-d18008a5b236"
      },
      "source": [
        "### Define the training set"
      ]
    },
    {
      "cell_type": "code",
      "execution_count": 12,
      "id": "3873f7cd-a1a7-40b9-ae57-7e8fcca9f3c0",
      "metadata": {
        "id": "3873f7cd-a1a7-40b9-ae57-7e8fcca9f3c0"
      },
      "outputs": [],
      "source": [
        "training_digits = torch.cat(training_stacked_digits).view(-1, 28*28)\n",
        "label_list = [[index] * len(digit) for index,digit in enumerate(training_stacked_digits)]\n",
        "training_labels = torch.tensor((reduce(lambda x,y: x + y, label_list)))\n",
        "training_dataset = list(zip(training_digits,training_labels))\n",
        "training_dl = DataLoader(training_dataset,batch_size=256)"
      ]
    },
    {
      "cell_type": "code",
      "execution_count": 13,
      "id": "NJivEaDa9ks6",
      "metadata": {
        "colab": {
          "base_uri": "https://localhost:8080/"
        },
        "id": "NJivEaDa9ks6",
        "outputId": "5fa31147-6ffd-4f75-dc96-dcbaceac743d"
      },
      "outputs": [
        {
          "data": {
            "text/plain": [
              "(torch.Size([256, 784]), torch.Size([256]))"
            ]
          },
          "execution_count": 13,
          "metadata": {},
          "output_type": "execute_result"
        }
      ],
      "source": [
        "first(training_dl)[0].shape,first(training_dl)[1].shape"
      ]
    },
    {
      "cell_type": "markdown",
      "id": "fdf7bb47-cccd-44bc-99b3-701421b54230",
      "metadata": {
        "id": "fdf7bb47-cccd-44bc-99b3-701421b54230"
      },
      "source": [
        "### Define the test test"
      ]
    },
    {
      "cell_type": "code",
      "execution_count": 14,
      "id": "25dfe991-ea43-4a3e-af21-22a29ef489a8",
      "metadata": {
        "id": "25dfe991-ea43-4a3e-af21-22a29ef489a8"
      },
      "outputs": [],
      "source": [
        "test_digits = torch.cat(test_stacked_digits).view(-1, 28*28)\n",
        "label_list  = [[index] * len(digit) for index,digit in enumerate(test_stacked_digits)]\n",
        "test_labels = torch.tensor(reduce(lambda x,y: x + y, label_list))\n",
        "test_datasest = list(zip(test_digits,test_labels))\n",
        "test_dl = DataLoader(test_datasest,batch_size=256)"
      ]
    },
    {
      "cell_type": "code",
      "execution_count": 15,
      "id": "eHPzWzh89nfc",
      "metadata": {
        "colab": {
          "base_uri": "https://localhost:8080/"
        },
        "id": "eHPzWzh89nfc",
        "outputId": "20b9bc27-3dd6-4277-a7e8-7a80223afaeb"
      },
      "outputs": [
        {
          "data": {
            "text/plain": [
              "(torch.Size([256, 784]), torch.Size([256]))"
            ]
          },
          "execution_count": 15,
          "metadata": {},
          "output_type": "execute_result"
        }
      ],
      "source": [
        "first(test_dl)[0].shape,first(test_dl)[1].shape"
      ]
    },
    {
      "cell_type": "code",
      "execution_count": 16,
      "id": "7DKao_rSOyMa",
      "metadata": {
        "id": "7DKao_rSOyMa"
      },
      "outputs": [],
      "source": [
        "criterion = nn.CrossEntropyLoss()"
      ]
    },
    {
      "cell_type": "code",
      "execution_count": 17,
      "id": "55d0ea9b",
      "metadata": {
        "id": "55d0ea9b"
      },
      "outputs": [],
      "source": [
        "class Optimizer:\n",
        "    def __init__(self,init_params,learning_rate):\n",
        "        self.params, self.learning_rate = list(init_params),learning_rate\n",
        "\n",
        "    def calculate_gradient(self, training_set, labels, model):\n",
        "        predictions = model(training_set)\n",
        "        loss = criterion(predictions,labels)\n",
        "        loss.backward()\n",
        "\n",
        "    def batch_accuracy(self,pred, actual):\n",
        "        digit_pred = pred.max(dim=1)[1]\n",
        "        return (digit_pred==actual).float().mean()\n",
        "\n",
        "    def step(self):\n",
        "        for p in self.params:\n",
        "            p.data -= p.grad * self.learning_rate\n",
        "            p.grad.zero_()\n",
        "\n",
        "    def validate_epoch(self, model,test_dl):\n",
        "        accuracy = []\n",
        "        with torch.no_grad():\n",
        "          accuracy = [self.batch_accuracy(model(digits), label) for digits,label in test_dl ]\n",
        "        return round(torch.stack(accuracy).mean().item(), 4)"
      ]
    },
    {
      "cell_type": "code",
      "execution_count": 18,
      "id": "735aed00",
      "metadata": {
        "id": "735aed00"
      },
      "outputs": [],
      "source": [
        "simple_net = nn.Sequential(\n",
        "    nn.Linear(28*28,30),\n",
        "    nn.ReLU(),\n",
        "    nn.Linear(30,10)\n",
        ")\n",
        "opt = Optimizer(simple_net.parameters(),1e-3)"
      ]
    },
    {
      "cell_type": "code",
      "execution_count": 19,
      "id": "5fe0aa4a",
      "metadata": {
        "id": "5fe0aa4a"
      },
      "outputs": [],
      "source": [
        "def train_epoch(model):\n",
        "    for x,y in training_dl:\n",
        "        opt.calculate_gradient(x,y,model)\n",
        "        opt.step()"
      ]
    },
    {
      "cell_type": "code",
      "execution_count": 20,
      "id": "6634034a",
      "metadata": {
        "id": "6634034a"
      },
      "outputs": [],
      "source": [
        "def train_model(model,epoch):\n",
        "    for i in range(epoch):\n",
        "        train_epoch(model)\n",
        "        print(f'Current epoch:{i} Accuracy:{opt.validate_epoch(model,test_dl)}')"
      ]
    },
    {
      "cell_type": "code",
      "execution_count": 21,
      "id": "2OGsj18-_V4q",
      "metadata": {
        "colab": {
          "base_uri": "https://localhost:8080/"
        },
        "id": "2OGsj18-_V4q",
        "outputId": "f826378d-5de8-4a86-ddc2-235d393caf62"
      },
      "outputs": [
        {
          "name": "stdout",
          "output_type": "stream",
          "text": [
            "Current epoch:0 Accuracy:0.168\n",
            "Current epoch:1 Accuracy:0.3422\n",
            "Current epoch:2 Accuracy:0.4764\n",
            "Current epoch:3 Accuracy:0.5399\n",
            "Current epoch:4 Accuracy:0.5869\n",
            "Current epoch:5 Accuracy:0.6255\n",
            "Current epoch:6 Accuracy:0.6443\n",
            "Current epoch:7 Accuracy:0.6595\n",
            "Current epoch:8 Accuracy:0.6629\n",
            "Current epoch:9 Accuracy:0.6729\n",
            "Current epoch:10 Accuracy:0.6782\n",
            "Current epoch:11 Accuracy:0.684\n",
            "Current epoch:12 Accuracy:0.6886\n",
            "Current epoch:13 Accuracy:0.6954\n",
            "Current epoch:14 Accuracy:0.7019\n",
            "Current epoch:15 Accuracy:0.708\n",
            "Current epoch:16 Accuracy:0.7139\n",
            "Current epoch:17 Accuracy:0.7215\n",
            "Current epoch:18 Accuracy:0.7294\n",
            "Current epoch:19 Accuracy:0.7371\n",
            "Current epoch:20 Accuracy:0.7454\n",
            "Current epoch:21 Accuracy:0.7517\n",
            "Current epoch:22 Accuracy:0.7579\n",
            "Current epoch:23 Accuracy:0.765\n",
            "Current epoch:24 Accuracy:0.7706\n",
            "Current epoch:25 Accuracy:0.7754\n",
            "Current epoch:26 Accuracy:0.7809\n",
            "Current epoch:27 Accuracy:0.7859\n",
            "Current epoch:28 Accuracy:0.7905\n",
            "Current epoch:29 Accuracy:0.7941\n",
            "Current epoch:30 Accuracy:0.7976\n",
            "Current epoch:31 Accuracy:0.8011\n",
            "Current epoch:32 Accuracy:0.8039\n",
            "Current epoch:33 Accuracy:0.8049\n",
            "Current epoch:34 Accuracy:0.809\n",
            "Current epoch:35 Accuracy:0.8129\n",
            "Current epoch:36 Accuracy:0.8156\n",
            "Current epoch:37 Accuracy:0.82\n",
            "Current epoch:38 Accuracy:0.8229\n",
            "Current epoch:39 Accuracy:0.826\n",
            "Current epoch:40 Accuracy:0.8287\n",
            "Current epoch:41 Accuracy:0.8312\n",
            "Current epoch:42 Accuracy:0.8335\n",
            "Current epoch:43 Accuracy:0.8354\n",
            "Current epoch:44 Accuracy:0.8369\n",
            "Current epoch:45 Accuracy:0.8392\n",
            "Current epoch:46 Accuracy:0.8422\n",
            "Current epoch:47 Accuracy:0.8432\n",
            "Current epoch:48 Accuracy:0.8443\n",
            "Current epoch:49 Accuracy:0.8464\n",
            "Current epoch:50 Accuracy:0.8479\n",
            "Current epoch:51 Accuracy:0.8492\n",
            "Current epoch:52 Accuracy:0.851\n",
            "Current epoch:53 Accuracy:0.8524\n",
            "Current epoch:54 Accuracy:0.8537\n",
            "Current epoch:55 Accuracy:0.8557\n",
            "Current epoch:56 Accuracy:0.857\n",
            "Current epoch:57 Accuracy:0.8578\n",
            "Current epoch:58 Accuracy:0.8593\n",
            "Current epoch:59 Accuracy:0.8607\n",
            "Current epoch:60 Accuracy:0.862\n",
            "Current epoch:61 Accuracy:0.8634\n",
            "Current epoch:62 Accuracy:0.8649\n",
            "Current epoch:63 Accuracy:0.8658\n",
            "Current epoch:64 Accuracy:0.8667\n",
            "Current epoch:65 Accuracy:0.8676\n",
            "Current epoch:66 Accuracy:0.8683\n",
            "Current epoch:67 Accuracy:0.8687\n",
            "Current epoch:68 Accuracy:0.8679\n",
            "Current epoch:69 Accuracy:0.8684\n",
            "Current epoch:70 Accuracy:0.8691\n",
            "Current epoch:71 Accuracy:0.8698\n",
            "Current epoch:72 Accuracy:0.8711\n",
            "Current epoch:73 Accuracy:0.8714\n",
            "Current epoch:74 Accuracy:0.872\n",
            "Current epoch:75 Accuracy:0.8728\n",
            "Current epoch:76 Accuracy:0.8734\n",
            "Current epoch:77 Accuracy:0.8744\n",
            "Current epoch:78 Accuracy:0.8752\n",
            "Current epoch:79 Accuracy:0.8754\n",
            "Current epoch:80 Accuracy:0.8759\n",
            "Current epoch:81 Accuracy:0.8765\n",
            "Current epoch:82 Accuracy:0.8777\n",
            "Current epoch:83 Accuracy:0.8782\n",
            "Current epoch:84 Accuracy:0.8786\n",
            "Current epoch:85 Accuracy:0.8791\n",
            "Current epoch:86 Accuracy:0.88\n",
            "Current epoch:87 Accuracy:0.8805\n",
            "Current epoch:88 Accuracy:0.881\n",
            "Current epoch:89 Accuracy:0.8815\n",
            "Current epoch:90 Accuracy:0.8818\n",
            "Current epoch:91 Accuracy:0.8824\n",
            "Current epoch:92 Accuracy:0.8829\n",
            "Current epoch:93 Accuracy:0.8836\n",
            "Current epoch:94 Accuracy:0.884\n",
            "Current epoch:95 Accuracy:0.8844\n",
            "Current epoch:96 Accuracy:0.8849\n",
            "Current epoch:97 Accuracy:0.8853\n",
            "Current epoch:98 Accuracy:0.8856\n",
            "Current epoch:99 Accuracy:0.8859\n"
          ]
        }
      ],
      "source": [
        "train_model(simple_net,100)"
      ]
    }
  ],
  "metadata": {
    "accelerator": "GPU",
    "colab": {
      "gpuType": "T4",
      "provenance": []
    },
    "kernelspec": {
      "display_name": "Python 3 (ipykernel)",
      "language": "python",
      "name": "python3"
    },
    "language_info": {
      "codemirror_mode": {
        "name": "ipython",
        "version": 3
      },
      "file_extension": ".py",
      "mimetype": "text/x-python",
      "name": "python",
      "nbconvert_exporter": "python",
      "pygments_lexer": "ipython3",
      "version": "3.11.8"
    }
  },
  "nbformat": 4,
  "nbformat_minor": 5
}
